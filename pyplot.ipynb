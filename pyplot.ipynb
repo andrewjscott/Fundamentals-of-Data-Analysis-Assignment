{
 "cells": [
  {
   "cell_type": "code",
   "execution_count": 1,
   "id": "40faec59",
   "metadata": {},
   "outputs": [],
   "source": [
    "\n",
    "import matplotlib.pyplot as plt\n",
    "\n",
    "\n",
    "import numpy as np\n",
    "\n",
    "\n",
    "import pandas as pd\n",
    "\n",
    "# Matplotlib magic command\n",
    "%matplotlib inline\n"
   ]
  },
  {
   "cell_type": "markdown",
   "id": "9ed3fff6",
   "metadata": {},
   "source": [
    "### Matplotlib.pyplot"
   ]
  },
  {
   "cell_type": "markdown",
   "id": "8eac89c5",
   "metadata": {},
   "source": [
    "From pyplot documentation - matplotlib.pyplot is a collection of functions that make matplotlib work like MATLAB. Each pyplot function makes some change to a figure: e.g., creates a figure, creates a plotting area in a figure, plots some lines in a plotting area, decorates the plot with labels, etc.\n",
    "\n",
    "In matplotlib.pyplot various states are preserved across function calls, so that it keeps track of things like the current figure and plotting area, and the plotting functions are directed to the current axes (please note that \"axes\" here and in most places in the documentation refers to the axes part of a figure and not the strict mathematical term for more than one axis).\n",
    "\n",
    "Note - the pyplot API is generally less-flexible than the object-oriented API. Most of the function calls you see here can also be called as methods from an Axes object. We recommend browsing the tutorials and examples to see how this works.\n",
    "\n",
    "\n",
    "Chapter 4 of Data Science Handbook by Vanderplas is about matplotlib\n",
    "\n",
    "One of Matplotlib’s most important features is its ability to play well with many operating\n",
    "systems and graphics backends. Matplotlib supports dozens of backends and\n",
    "output types, which means you can count on it to work regardless of which operating\n",
    "system you are using or which output format you wish. This cross-platform,\n",
    "everything-to-everyone approach has been one of the great strengths of Matplotlib. (p. 217)\n",
    "\n",
    "the IPython notebook,\n",
    "you also have the option of embedding graphics directly in the notebook, with two\n",
    "possible options:\n",
    "• %matplotlib notebook will lead to interactive plots embedded within the\n",
    "notebook\n",
    "• %matplotlib inline will lead to static images of your plot embedded in the\n",
    "Notebook (p. 220)\n",
    "\n",
    "A potentially confusing feature of Matplotlib is its dual interfaces: a convenient\n",
    "MATLAB-style state-based interface, and a more powerful object-oriented interface. (p. 222)\n",
    "stateful: it keeps track of the “current” figure and axes, which are where all plt commands are applied (p. 222). While this stateful interface is fast and convenient for simple plots, it is easy to run into problems. For example, once the second panel is created, how can we go back and add something to the first? This is possible within the MATLAB-style interface, but a bit clunky. (p. 223)\n",
    "The object-oriented interface is available for these more complicated situations, and\n",
    "for when you want more control over your figure. Rather than depending on some\n",
    "notion of an “active” figure or axes, in the object-oriented interface the plotting functions\n",
    "are methods of explicit Figure and Axes objects. (p. 223)\n",
    "See also - https://stackoverflow.com/questions/24764918/what-does-it-mean-when-they-say-stateful\n",
    "https://medium.com/@The_Gambitier/matplotlib-essentials-e376ed954201\n",
    "\n",
    "Throughout this chapter, we will switch between the MATLAB-style\n",
    "and object-oriented interfaces, depending on what is most convenient. In most cases,\n",
    "the difference is as small as switching plt.plot() to ax.plot(), but there are a few\n",
    "gotchas that we will highlight as they come up in the following sections. (p. 223)\n",
    "\n",
    "------\n",
    "\"Matplotlib's documentation and examples use both the OO and the pyplot approaches (which are equally powerful), and you should feel free to use either (however, it is preferable pick one of them and stick to it, instead of mixing them). In general, we suggest to restrict pyplot to interactive plotting (e.g., in a Jupyter notebook), and to prefer the OO-style for non-interactive plotting (in functions and scripts that are intended to be reused as part of a larger project).\" - https://matplotlib.org/stable/tutorials/introductory/usage.html\n",
    "\n",
    "https://nbviewer.org/github/matplotlib/AnatomyOfMatplotlib/blob/master/AnatomyOfMatplotlib-Part1-Figures_Subplots_and_layouts.ipynb\n",
    "\n",
    "\n",
    "Probably need to briefly explain MATLAB to explain matplotlib/the name\n",
    "\n",
    "From Matplotlib official Documentation\n",
    "\n",
    "The following introductory text was written in 2008 by John D. Hunter (1968-2012), the original author of Matplotlib. - Matplotlib is a library for making 2D plots of arrays in Python. Although it has its origins in emulating the MATLAB graphics commands, it is independent of MATLAB, and can be used in a Pythonic, object oriented way. Although Matplotlib is written primarily in pure Python, it makes heavy use of NumPy and other extension code to provide good performance even for large arrays.\n",
    "\n",
    "The Matplotlib code is conceptually divided into three parts: \n",
    "the pylab interface is the set of functions provided by pylab which allow the user to create plots with code quite similar to MATLAB figure generating code (Pyplot tutorial). \n",
    "The Matplotlib frontend or Matplotlib API is the set of classes that do the heavy lifting, creating and managing figures, text, lines, plots and so on (Artist tutorial). This is an abstract interface that knows nothing about output. \n",
    "The backends are device-dependent drawing devices, aka renderers, that transform the frontend representation to hardcopy or a display device\n",
    "\n",
    "\n",
    "From elsewhere in official documentation\n",
    "The pyplot API\n",
    "matplotlib.pyplot is a collection of command style functions that make Matplotlib work like MATLAB. Each pyplot function makes some change to a figure: e.g., creates a figure, creates a plotting area in a figure, plots some lines in a plotting area, decorates the plot with labels, etc.\n",
    "\n",
    "pyplot is mainly intended for interactive plots and simple cases of programmatic plot generation.\n",
    "\n",
    "\n",
    "-----------\n",
    "RealPython\n",
    "\n",
    "Pylab within matploblib is a holdover to make it more similar to MATLABs functionality where importing is not as heavily used as in python and makes most of the functions immediately available to the user, but using it in python is considered bad practice as it may cause bugs and conflicts with python built-ins. As such, it’s convention and recommended to import pylot instead.\n",
    "\n",
    "-------\n",
    "\n",
    "Various tutorials suggest adding the following after importing matplotlib:\n",
    "%matplotlib inline\n",
    "As it helps plots to show more consistently in jupyter\n",
    "\n",
    "To make multiple plots sidebyside - plt.subplot()\n"
   ]
  },
  {
   "cell_type": "code",
   "execution_count": null,
   "id": "40880f45",
   "metadata": {},
   "outputs": [],
   "source": []
  },
  {
   "cell_type": "code",
   "execution_count": 15,
   "id": "c038fa97",
   "metadata": {},
   "outputs": [],
   "source": [
    "# Real life data to be used in sample plots\n",
    "# Data was manually cleaned at parts so the sport names would be more consistant\n",
    "# The sport for F1 drivers was inconsistantly named - manually changed all to \"F1 Racing\"\n",
    "# In original file, changed between \"Auto Racing\", \"F1 Motorsports\", and \"F1 Racing\"\n",
    "# Nascar inconsistantly named - manually changed all to Nascar\n",
    "# In original file, changed between \"Auto Racing\", \"Auto Racing (Nascar)\", and \"Nascar\"\n",
    "# Changed three instances of \"NFL\" to the more commonly entered \"American Football\"\n",
    "# Changed one instance of \"NBA\" to the more commonly entered \"Basketball\"\n",
    "# Changed one instance of \"Hockey\" to the more commonly entered \"Ice Hockey\"\n",
    "df = pd.read_csv('forbes.csv', header=[0])\n"
   ]
  },
  {
   "cell_type": "markdown",
   "id": "60a046ad",
   "metadata": {},
   "source": [
    "### Scatterplot"
   ]
  },
  {
   "cell_type": "code",
   "execution_count": null,
   "id": "713f4507",
   "metadata": {},
   "outputs": [],
   "source": []
  },
  {
   "cell_type": "code",
   "execution_count": 16,
   "id": "ff30a869-89f0-4284-b4e1-7a38c2ee1e47",
   "metadata": {},
   "outputs": [],
   "source": [
    "a = [1, 2, 3, 4, 5]\n",
    "b = [1, 5, 7, 15, 22]"
   ]
  },
  {
   "cell_type": "code",
   "execution_count": 17,
   "id": "f19b8ad1",
   "metadata": {},
   "outputs": [
    {
     "data": {
      "text/plain": [
       "[<matplotlib.lines.Line2D at 0x2bbcd3ab790>]"
      ]
     },
     "execution_count": 17,
     "metadata": {},
     "output_type": "execute_result"
    },
    {
     "data": {
      "image/png": "[encoded data removed]",
      "text/plain": [
       "<Figure size 432x288 with 1 Axes>"
      ]
     },
     "metadata": {
      "needs_background": "light"
     },
     "output_type": "display_data"
    }
   ],
   "source": [
    "# A simple scatterplot using plt.plot\n",
    "# By default, plt.plot returns a line plot, \n",
    "# but adding 'o' changes the marker type, transforming the plot to a scatterplot\n",
    "plt.plot(a, b, 'o')"
   ]
  },
  {
   "cell_type": "code",
   "execution_count": 18,
   "id": "f87f6e36",
   "metadata": {},
   "outputs": [
    {
     "data": {
      "text/plain": [
       "<matplotlib.collections.PathCollection at 0x2bbcd2851c0>"
      ]
     },
     "execution_count": 18,
     "metadata": {},
     "output_type": "execute_result"
    },
    {
     "data": {
      "image/png": "[encoded data removed]",
      "text/plain": [
       "<Figure size 432x288 with 1 Axes>"
      ]
     },
     "metadata": {
      "needs_background": "light"
     },
     "output_type": "display_data"
    }
   ],
   "source": [
    "# The same simple scatterplot using plt.scatter, with axes swapped\n",
    "plt.scatter(b, a)"
   ]
  },
  {
   "cell_type": "code",
   "execution_count": null,
   "id": "b3d2327e",
   "metadata": {},
   "outputs": [],
   "source": []
  },
  {
   "cell_type": "code",
   "execution_count": 19,
   "id": "f2f1d10e",
   "metadata": {},
   "outputs": [
    {
     "data": {
      "image/png": "[encoded data removed]",
      "text/plain": [
       "<Figure size 432x288 with 1 Axes>"
      ]
     },
     "metadata": {
      "needs_background": "light"
     },
     "output_type": "display_data"
    }
   ],
   "source": [
    "# A plot using Forbes dataframe\n",
    "# Using \"s=df[\"earnings ($ million)\"]\" changes the size of the points based on that variables' value\n",
    "# Using \"c=df[\"Current Rank\"]\" changes that colour of the plot point, in this instance based on ranking\n",
    "plt.scatter(x=df[\"Year\"], y=df[\"earnings ($ million)\"],\n",
    "s=df[\"earnings ($ million)\"],c=df[\"Current Rank\"], marker='.')\n",
    "\n",
    "# Adding titles and labels to plot\n",
    "plt.title(\"Forbes Athlete Rich List - 1990-2020\")\n",
    "plt.xlabel(\"Year\")\n",
    "plt.ylabel(\"Earnings ($ million)\")\n",
    "plt.grid(True, color='gray', linestyle = \"--\")"
   ]
  },
  {
   "cell_type": "code",
   "execution_count": null,
   "id": "6680cae5",
   "metadata": {},
   "outputs": [],
   "source": []
  },
  {
   "cell_type": "code",
   "execution_count": null,
   "id": "1bba5287",
   "metadata": {},
   "outputs": [],
   "source": []
  },
  {
   "cell_type": "markdown",
   "id": "9f100f3a",
   "metadata": {},
   "source": [
    "### Histogram"
   ]
  },
  {
   "cell_type": "code",
   "execution_count": null,
   "id": "00f799e8-1ffe-4425-8de1-374a71c5a73b",
   "metadata": {},
   "outputs": [],
   "source": []
  },
  {
   "cell_type": "code",
   "execution_count": 20,
   "id": "432ebdce",
   "metadata": {},
   "outputs": [],
   "source": [
    "# Importing the numpy random number generator as per numpy documentation recommendation\n",
    "from numpy.random import default_rng\n",
    "rng = default_rng()"
   ]
  },
  {
   "cell_type": "code",
   "execution_count": 21,
   "id": "96c48e8a",
   "metadata": {},
   "outputs": [],
   "source": [
    "# Defining the mean and standard deviation that will be used by the rng\n",
    "mu, sigma = 20000, 100\n",
    "\n",
    "# Using numpy random to generate 1000 instances of normally distributed data\n",
    "random = np.random.default_rng().normal(mu, sigma, 1000)"
   ]
  },
  {
   "cell_type": "code",
   "execution_count": 22,
   "id": "d941f8e4",
   "metadata": {},
   "outputs": [
    {
     "data": {
      "text/plain": [
       "(array([ 20.,  42., 111., 179., 229., 202., 140.,  61.,  15.,   1.]),\n",
       " array([19717.10972099, 19777.97585442, 19838.84198785, 19899.70812128,\n",
       "        19960.57425471, 20021.44038814, 20082.30652156, 20143.17265499,\n",
       "        20204.03878842, 20264.90492185, 20325.77105528]),\n",
       " <BarContainer object of 10 artists>)"
      ]
     },
     "execution_count": 22,
     "metadata": {},
     "output_type": "execute_result"
    },
    {
     "data": {
      "image/png": "[encoded data removed]",
      "text/plain": [
       "<Figure size 432x288 with 1 Axes>"
      ]
     },
     "metadata": {
      "needs_background": "light"
     },
     "output_type": "display_data"
    }
   ],
   "source": [
    "# Plotting the randomly generated data to view the distribution\n",
    "plt.hist(random)"
   ]
  },
  {
   "cell_type": "code",
   "execution_count": null,
   "id": "83ef86ea",
   "metadata": {},
   "outputs": [],
   "source": []
  },
  {
   "cell_type": "code",
   "execution_count": null,
   "id": "1cb12c91",
   "metadata": {},
   "outputs": [],
   "source": []
  },
  {
   "cell_type": "code",
   "execution_count": 23,
   "id": "4546b7e4",
   "metadata": {},
   "outputs": [
    {
     "data": {
      "image/png": "[encoded data removed]",
      "text/plain": [
       "<Figure size 432x288 with 1 Axes>"
      ]
     },
     "metadata": {
      "needs_background": "light"
     },
     "output_type": "display_data"
    }
   ],
   "source": [
    "# Distribution of the earnings in the Forbes dataframe\n",
    "plt.hist(df[\"earnings ($ million)\"], bins = 50)\n",
    "plt.xlabel(\"Earnings ($ million)\")\n",
    "\n",
    "# Giving the plot unique ticks on the x-axis so there are more markers where the plot has more datapoints\n",
    "x_ticks = [10, 25, 50, 75, 100, 150, 200, 250, 300]\n",
    "\n",
    "#add x-axis values to plot\n",
    "plt.xticks(ticks=x_ticks)\n",
    "\n",
    "plt.grid(True, color='gray', linestyle = \"--\")"
   ]
  },
  {
   "cell_type": "code",
   "execution_count": null,
   "id": "ca9576e3",
   "metadata": {},
   "outputs": [],
   "source": []
  },
  {
   "cell_type": "code",
   "execution_count": null,
   "id": "a7efcef3",
   "metadata": {},
   "outputs": [],
   "source": []
  },
  {
   "cell_type": "code",
   "execution_count": null,
   "id": "ace98ec9",
   "metadata": {},
   "outputs": [],
   "source": []
  },
  {
   "cell_type": "markdown",
   "id": "06981739",
   "metadata": {},
   "source": [
    "### Bar Chart"
   ]
  },
  {
   "cell_type": "code",
   "execution_count": null,
   "id": "85f6b900",
   "metadata": {},
   "outputs": [],
   "source": []
  },
  {
   "cell_type": "code",
   "execution_count": 24,
   "id": "a9ee7080",
   "metadata": {},
   "outputs": [],
   "source": [
    "# Example Data\n",
    "amount = [9, 4, 8, 4, 3, 7, 2]\n",
    "fruit = [\"apple\", \"pear\", \"orange\", \"lemon\", \"melon\", \"banana\", \"lime\"]"
   ]
  },
  {
   "cell_type": "code",
   "execution_count": 25,
   "id": "fc6ec8be",
   "metadata": {},
   "outputs": [
    {
     "data": {
      "text/plain": [
       "<BarContainer object of 7 artists>"
      ]
     },
     "execution_count": 25,
     "metadata": {},
     "output_type": "execute_result"
    },
    {
     "data": {
      "image/png": "[encoded data removed]",
      "text/plain": [
       "<Figure size 432x288 with 1 Axes>"
      ]
     },
     "metadata": {
      "needs_background": "light"
     },
     "output_type": "display_data"
    }
   ],
   "source": [
    "# Plotting the example data in a bar chart\n",
    "plt.bar(fruit, amount)"
   ]
  },
  {
   "cell_type": "code",
   "execution_count": null,
   "id": "9f038848",
   "metadata": {},
   "outputs": [],
   "source": []
  },
  {
   "cell_type": "code",
   "execution_count": 26,
   "id": "98557fc6",
   "metadata": {},
   "outputs": [
    {
     "data": {
      "text/plain": [
       "Basketball                      82\n",
       "Boxing                          46\n",
       "Golf                            44\n",
       "Soccer                          33\n",
       "F1 Racing                       30\n",
       "Tennis                          23\n",
       "American Football               20\n",
       "Baseball                         6\n",
       "Nascar                           6\n",
       "Motorcycle Gp                    4\n",
       "Ice Hockey                       4\n",
       "American Football / Baseball     1\n",
       "Cycling                          1\n",
       "Mma                              1\n",
       "Name: Sport, dtype: int64"
      ]
     },
     "execution_count": 26,
     "metadata": {},
     "output_type": "execute_result"
    }
   ],
   "source": [
    "# The data in the sports colums was entered in both title case and lower case\n",
    "# Changed all to title to make the count easier\n",
    "sport = df.Sport.str.title()\n",
    "sport_count = sport.value_counts()\n",
    "sport_count\n"
   ]
  },
  {
   "cell_type": "code",
   "execution_count": 27,
   "id": "a036ef1a",
   "metadata": {},
   "outputs": [
    {
     "data": {
      "text/plain": [
       "0                 boxing\n",
       "1                 boxing\n",
       "2                 boxing\n",
       "3              F1 Racing\n",
       "4              F1 Racing\n",
       "             ...        \n",
       "296           Basketball\n",
       "297           Basketball\n",
       "298                 Golf\n",
       "299    American Football\n",
       "300    American Football\n",
       "Name: Sport, Length: 301, dtype: object"
      ]
     },
     "execution_count": 27,
     "metadata": {},
     "output_type": "execute_result"
    }
   ],
   "source": [
    "df.Sport\n"
   ]
  },
  {
   "cell_type": "code",
   "execution_count": null,
   "id": "3c4b78e0",
   "metadata": {},
   "outputs": [],
   "source": []
  },
  {
   "cell_type": "markdown",
   "id": "59e2c3b7",
   "metadata": {},
   "source": [
    "### References"
   ]
  },
  {
   "cell_type": "markdown",
   "id": "04d28c19",
   "metadata": {},
   "source": []
  },
  {
   "cell_type": "markdown",
   "id": "3aa3e354",
   "metadata": {},
   "source": []
  },
  {
   "cell_type": "markdown",
   "id": "7ae28c2a",
   "metadata": {},
   "source": []
  },
  {
   "cell_type": "code",
   "execution_count": null,
   "id": "88ebf188",
   "metadata": {},
   "outputs": [],
   "source": []
  },
  {
   "cell_type": "code",
   "execution_count": null,
   "id": "35f3198d",
   "metadata": {},
   "outputs": [],
   "source": []
  },
  {
   "cell_type": "code",
   "execution_count": null,
   "id": "85ec64e8",
   "metadata": {},
   "outputs": [],
   "source": []
  },
  {
   "cell_type": "code",
   "execution_count": null,
   "id": "68a43e7b",
   "metadata": {},
   "outputs": [],
   "source": []
  },
  {
   "cell_type": "code",
   "execution_count": null,
   "id": "70d7721f",
   "metadata": {},
   "outputs": [],
   "source": []
  },
  {
   "cell_type": "code",
   "execution_count": null,
   "id": "94fc82f1",
   "metadata": {},
   "outputs": [],
   "source": []
  },
  {
   "cell_type": "code",
   "execution_count": null,
   "id": "9e5a3a2b",
   "metadata": {},
   "outputs": [],
   "source": []
  },
  {
   "cell_type": "code",
   "execution_count": null,
   "id": "733ce8a5",
   "metadata": {},
   "outputs": [],
   "source": []
  },
  {
   "cell_type": "code",
   "execution_count": null,
   "id": "05836fb5",
   "metadata": {},
   "outputs": [],
   "source": []
  }
 ],
 "metadata": {
  "kernelspec": {
   "display_name": "Python 3",
   "language": "python",
   "name": "python3"
  },
  "language_info": {
   "codemirror_mode": {
    "name": "ipython",
    "version": 3
   },
   "file_extension": ".py",
   "mimetype": "text/x-python",
   "name": "python",
   "nbconvert_exporter": "python",
   "pygments_lexer": "ipython3",
   "version": "3.8.8"
  }
 },
 "nbformat": 4,
 "nbformat_minor": 5
}
