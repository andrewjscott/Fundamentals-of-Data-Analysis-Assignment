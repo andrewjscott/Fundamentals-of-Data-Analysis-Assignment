{
 "cells": [
  {
   "cell_type": "markdown",
   "id": "9ed3fff6",
   "metadata": {},
   "source": [
    "### Matplotlib.pyplot"
   ]
  },
  {
   "cell_type": "code",
   "execution_count": null,
   "id": "b0d2b4d6-fa32-44bd-85e2-0a8a3de77840",
   "metadata": {},
   "outputs": [],
   "source": []
  },
  {
   "cell_type": "code",
   "execution_count": null,
   "id": "40880f45",
   "metadata": {},
   "outputs": [],
   "source": []
  },
  {
   "cell_type": "code",
   "execution_count": null,
   "id": "c038fa97",
   "metadata": {},
   "outputs": [],
   "source": []
  },
  {
   "cell_type": "markdown",
   "id": "60a046ad",
   "metadata": {},
   "source": [
    "### Plot type 1"
   ]
  },
  {
   "cell_type": "code",
   "execution_count": null,
   "id": "ff30a869-89f0-4284-b4e1-7a38c2ee1e47",
   "metadata": {},
   "outputs": [],
   "source": []
  },
  {
   "cell_type": "code",
   "execution_count": null,
   "id": "f19b8ad1",
   "metadata": {},
   "outputs": [],
   "source": []
  },
  {
   "cell_type": "code",
   "execution_count": null,
   "id": "1bba5287",
   "metadata": {},
   "outputs": [],
   "source": []
  },
  {
   "cell_type": "markdown",
   "id": "9f100f3a",
   "metadata": {},
   "source": [
    "### Plot type 2"
   ]
  },
  {
   "cell_type": "code",
   "execution_count": null,
   "id": "00f799e8-1ffe-4425-8de1-374a71c5a73b",
   "metadata": {},
   "outputs": [],
   "source": []
  },
  {
   "cell_type": "code",
   "execution_count": null,
   "id": "432ebdce",
   "metadata": {},
   "outputs": [],
   "source": []
  },
  {
   "cell_type": "code",
   "execution_count": null,
   "id": "ace98ec9",
   "metadata": {},
   "outputs": [],
   "source": []
  },
  {
   "cell_type": "markdown",
   "id": "06981739",
   "metadata": {},
   "source": [
    "### Plot type 3"
   ]
  },
  {
   "cell_type": "code",
   "execution_count": null,
   "id": "85f6b900",
   "metadata": {},
   "outputs": [],
   "source": []
  },
  {
   "cell_type": "code",
   "execution_count": null,
   "id": "a9ee7080",
   "metadata": {},
   "outputs": [],
   "source": []
  },
  {
   "cell_type": "code",
   "execution_count": null,
   "id": "fc6ec8be",
   "metadata": {},
   "outputs": [],
   "source": []
  },
  {
   "cell_type": "markdown",
   "id": "59e2c3b7",
   "metadata": {},
   "source": [
    "### References"
   ]
  },
  {
   "cell_type": "markdown",
   "id": "04d28c19",
   "metadata": {},
   "source": []
  },
  {
   "cell_type": "markdown",
   "id": "3aa3e354",
   "metadata": {},
   "source": []
  },
  {
   "cell_type": "markdown",
   "id": "7ae28c2a",
   "metadata": {},
   "source": []
  }
 ],
 "metadata": {
  "kernelspec": {
   "display_name": "Python 3",
   "language": "python",
   "name": "python3"
  },
  "language_info": {
   "codemirror_mode": {
    "name": "ipython",
    "version": 3
   },
   "file_extension": ".py",
   "mimetype": "text/x-python",
   "name": "python",
   "nbconvert_exporter": "python",
   "pygments_lexer": "ipython3",
   "version": "3.8.8"
  }
 },
 "nbformat": 4,
 "nbformat_minor": 5
}
