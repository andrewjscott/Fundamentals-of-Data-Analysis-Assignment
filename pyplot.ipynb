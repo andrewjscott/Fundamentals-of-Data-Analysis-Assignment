{
 "cells": [
  {
   "cell_type": "markdown",
   "id": "9ed3fff6",
   "metadata": {},
   "source": [
    "### Matplotlib.pyplot"
   ]
  },
  {
   "cell_type": "markdown",
   "id": "8eac89c5",
   "metadata": {},
   "source": [
    "From pyplot documentation - matplotlib.pyplot is a collection of functions that make matplotlib work like MATLAB. Each pyplot function makes some change to a figure: e.g., creates a figure, creates a plotting area in a figure, plots some lines in a plotting area, decorates the plot with labels, etc.\n",
    "\n",
    "In matplotlib.pyplot various states are preserved across function calls, so that it keeps track of things like the current figure and plotting area, and the plotting functions are directed to the current axes (please note that \"axes\" here and in most places in the documentation refers to the axes part of a figure and not the strict mathematical term for more than one axis).\n",
    "\n",
    "Note - the pyplot API is generally less-flexible than the object-oriented API. Most of the function calls you see here can also be called as methods from an Axes object. We recommend browsing the tutorials and examples to see how this works.\n",
    "\n",
    "\n",
    "Chapter 4 of Data Science Handbook by Vanderplas is about matplotlib\n",
    "\n",
    "One of Matplotlib’s most important features is its ability to play well with many operating\n",
    "systems and graphics backends. Matplotlib supports dozens of backends and\n",
    "output types, which means you can count on it to work regardless of which operating\n",
    "system you are using or which output format you wish. This cross-platform,\n",
    "everything-to-everyone approach has been one of the great strengths of Matplotlib. (p. 217)\n",
    "\n",
    "the IPython notebook,\n",
    "you also have the option of embedding graphics directly in the notebook, with two\n",
    "possible options:\n",
    "• %matplotlib notebook will lead to interactive plots embedded within the\n",
    "notebook\n",
    "• %matplotlib inline will lead to static images of your plot embedded in the\n",
    "Notebook (p. 220)\n",
    "\n",
    "A potentially confusing feature of Matplotlib is its dual interfaces: a convenient\n",
    "MATLAB-style state-based interface, and a more powerful object-oriented interface. (p. 222)\n",
    "stateful: it keeps track of the “current” figure and axes, which are where all plt commands are applied (p. 222). While this stateful interface is fast and convenient for simple plots, it is easy to run into problems. For example, once the second panel is created, how can we go back and add something to the first? This is possible within the MATLAB-style interface, but a bit clunky. (p. 223)\n",
    "The object-oriented interface is available for these more complicated situations, and\n",
    "for when you want more control over your figure. Rather than depending on some\n",
    "notion of an “active” figure or axes, in the object-oriented interface the plotting functions\n",
    "are methods of explicit Figure and Axes objects. (p. 223)\n",
    "See also - https://stackoverflow.com/questions/24764918/what-does-it-mean-when-they-say-stateful\n",
    "https://medium.com/@The_Gambitier/matplotlib-essentials-e376ed954201\n",
    "\n",
    "Throughout this chapter, we will switch between the MATLAB-style\n",
    "and object-oriented interfaces, depending on what is most convenient. In most cases,\n",
    "the difference is as small as switching plt.plot() to ax.plot(), but there are a few\n",
    "gotchas that we will highlight as they come up in the following sections. (p. 223)\n",
    "\n",
    "------\n",
    "\"Matplotlib's documentation and examples use both the OO and the pyplot approaches (which are equally powerful), and you should feel free to use either (however, it is preferable pick one of them and stick to it, instead of mixing them). In general, we suggest to restrict pyplot to interactive plotting (e.g., in a Jupyter notebook), and to prefer the OO-style for non-interactive plotting (in functions and scripts that are intended to be reused as part of a larger project).\" - https://matplotlib.org/stable/tutorials/introductory/usage.html\n",
    "\n",
    "https://nbviewer.org/github/matplotlib/AnatomyOfMatplotlib/blob/master/AnatomyOfMatplotlib-Part1-Figures_Subplots_and_layouts.ipynb\n",
    "\n",
    "\n",
    "Probably need to briefly explain MATLAB to explain matplotlib/the name\n",
    "\n",
    "From Matplotlib official Documentation\n",
    "\n",
    "The following introductory text was written in 2008 by John D. Hunter (1968-2012), the original author of Matplotlib. - Matplotlib is a library for making 2D plots of arrays in Python. Although it has its origins in emulating the MATLAB graphics commands, it is independent of MATLAB, and can be used in a Pythonic, object oriented way. Although Matplotlib is written primarily in pure Python, it makes heavy use of NumPy and other extension code to provide good performance even for large arrays.\n",
    "\n",
    "The Matplotlib code is conceptually divided into three parts: \n",
    "the pylab interface is the set of functions provided by pylab which allow the user to create plots with code quite similar to MATLAB figure generating code (Pyplot tutorial). \n",
    "The Matplotlib frontend or Matplotlib API is the set of classes that do the heavy lifting, creating and managing figures, text, lines, plots and so on (Artist tutorial). This is an abstract interface that knows nothing about output. \n",
    "The backends are device-dependent drawing devices, aka renderers, that transform the frontend representation to hardcopy or a display device\n",
    "\n",
    "\n",
    "From elsewhere in official documentation\n",
    "The pyplot API\n",
    "matplotlib.pyplot is a collection of command style functions that make Matplotlib work like MATLAB. Each pyplot function makes some change to a figure: e.g., creates a figure, creates a plotting area in a figure, plots some lines in a plotting area, decorates the plot with labels, etc.\n",
    "\n",
    "pyplot is mainly intended for interactive plots and simple cases of programmatic plot generation.\n",
    "\n",
    "\n",
    "-----------\n",
    "RealPython\n",
    "\n",
    "Pylab within matploblib is a holdover to make it more similar to MATLABs functionality where importing is not as heavily used as in python and makes most of the functions immediately available to the user, but using it in python is considered bad practice as it may cause bugs and conflicts with python built-ins. As such, it’s convention and recommended to import pylot instead.\n",
    "\n",
    "-------\n",
    "\n",
    "Various tutorials suggest adding the following after importing matplotlib:\n",
    "%matplotlib inline\n",
    "As it helps plots to show more consistently in jupyter\n",
    "\n",
    "To make multiple plots sidebyside - plt.subplot()\n"
   ]
  },
  {
   "cell_type": "code",
   "execution_count": null,
   "id": "40880f45",
   "metadata": {},
   "outputs": [],
   "source": []
  },
  {
   "cell_type": "code",
   "execution_count": null,
   "id": "c038fa97",
   "metadata": {},
   "outputs": [],
   "source": []
  },
  {
   "cell_type": "markdown",
   "id": "60a046ad",
   "metadata": {},
   "source": [
    "### Plot type 1"
   ]
  },
  {
   "cell_type": "code",
   "execution_count": null,
   "id": "ff30a869-89f0-4284-b4e1-7a38c2ee1e47",
   "metadata": {},
   "outputs": [],
   "source": []
  },
  {
   "cell_type": "code",
   "execution_count": null,
   "id": "f19b8ad1",
   "metadata": {},
   "outputs": [],
   "source": []
  },
  {
   "cell_type": "code",
   "execution_count": null,
   "id": "1bba5287",
   "metadata": {},
   "outputs": [],
   "source": []
  },
  {
   "cell_type": "markdown",
   "id": "9f100f3a",
   "metadata": {},
   "source": [
    "### Plot type 2"
   ]
  },
  {
   "cell_type": "code",
   "execution_count": null,
   "id": "00f799e8-1ffe-4425-8de1-374a71c5a73b",
   "metadata": {},
   "outputs": [],
   "source": []
  },
  {
   "cell_type": "code",
   "execution_count": null,
   "id": "432ebdce",
   "metadata": {},
   "outputs": [],
   "source": []
  },
  {
   "cell_type": "code",
   "execution_count": null,
   "id": "ace98ec9",
   "metadata": {},
   "outputs": [],
   "source": []
  },
  {
   "cell_type": "markdown",
   "id": "06981739",
   "metadata": {},
   "source": [
    "### Plot type 3"
   ]
  },
  {
   "cell_type": "code",
   "execution_count": null,
   "id": "85f6b900",
   "metadata": {},
   "outputs": [],
   "source": []
  },
  {
   "cell_type": "code",
   "execution_count": null,
   "id": "a9ee7080",
   "metadata": {},
   "outputs": [],
   "source": []
  },
  {
   "cell_type": "code",
   "execution_count": null,
   "id": "fc6ec8be",
   "metadata": {},
   "outputs": [],
   "source": []
  },
  {
   "cell_type": "markdown",
   "id": "59e2c3b7",
   "metadata": {},
   "source": [
    "### References"
   ]
  },
  {
   "cell_type": "markdown",
   "id": "04d28c19",
   "metadata": {},
   "source": []
  },
  {
   "cell_type": "markdown",
   "id": "3aa3e354",
   "metadata": {},
   "source": []
  },
  {
   "cell_type": "markdown",
   "id": "7ae28c2a",
   "metadata": {},
   "source": []
  }
 ],
 "metadata": {
  "kernelspec": {
   "display_name": "Python 3",
   "language": "python",
   "name": "python3"
  },
  "language_info": {
   "codemirror_mode": {
    "name": "ipython",
    "version": 3
   },
   "file_extension": ".py",
   "mimetype": "text/x-python",
   "name": "python",
   "nbconvert_exporter": "python",
   "pygments_lexer": "ipython3",
   "version": "3.8.8"
  }
 },
 "nbformat": 4,
 "nbformat_minor": 5
}
