{
 "cells": [
  {
   "cell_type": "code",
   "execution_count": 1,
   "id": "40faec59",
   "metadata": {},
   "outputs": [],
   "source": [
    "# Plotting\n",
    "import matplotlib.pyplot as plt\n",
    "\n",
    "# Numerical arrays\n",
    "import numpy as np\n",
    "\n",
    "# Dataframes\n",
    "import pandas as pd\n",
    "\n",
    "# Matplotlib magic command\n",
    "%matplotlib inline\n"
   ]
  },
  {
   "cell_type": "code",
   "execution_count": null,
   "id": "4a7a514d-24a3-44f9-ad3e-8c934437151a",
   "metadata": {},
   "outputs": [],
   "source": []
  },
  {
   "cell_type": "markdown",
   "id": "9ed3fff6",
   "metadata": {},
   "source": [
    "### Matplotlib.pyplot"
   ]
  },
  {
   "cell_type": "markdown",
   "id": "8eac89c5",
   "metadata": {},
   "source": [
    "From pyplot documentation - matplotlib.pyplot is a collection of functions that make matplotlib work like MATLAB. Each pyplot function makes some change to a figure: e.g., creates a figure, creates a plotting area in a figure, plots some lines in a plotting area, decorates the plot with labels, etc.\n",
    "\n",
    "In matplotlib.pyplot various states are preserved across function calls, so that it keeps track of things like the current figure and plotting area, and the plotting functions are directed to the current axes (please note that \"axes\" here and in most places in the documentation refers to the axes part of a figure and not the strict mathematical term for more than one axis).\n",
    "\n",
    "Note - the pyplot API is generally less-flexible than the object-oriented API. Most of the function calls you see here can also be called as methods from an Axes object. We recommend browsing the tutorials and examples to see how this works.\n",
    "\n",
    "\n",
    "Chapter 4 of Data Science Handbook by Vanderplas is about matplotlib\n",
    "\n",
    "One of Matplotlib’s most important features is its ability to play well with many operating\n",
    "systems and graphics backends. Matplotlib supports dozens of backends and\n",
    "output types, which means you can count on it to work regardless of which operating\n",
    "system you are using or which output format you wish. This cross-platform,\n",
    "everything-to-everyone approach has been one of the great strengths of Matplotlib. (p. 217)\n",
    "\n",
    "the IPython notebook,\n",
    "you also have the option of embedding graphics directly in the notebook, with two\n",
    "possible options:\n",
    "• %matplotlib notebook will lead to interactive plots embedded within the\n",
    "notebook\n",
    "• %matplotlib inline will lead to static images of your plot embedded in the\n",
    "Notebook (p. 220)\n",
    "\n",
    "A potentially confusing feature of Matplotlib is its dual interfaces: a convenient\n",
    "MATLAB-style state-based interface, and a more powerful object-oriented interface. (p. 222)\n",
    "stateful: it keeps track of the “current” figure and axes, which are where all plt commands are applied (p. 222). While this stateful interface is fast and convenient for simple plots, it is easy to run into problems. For example, once the second panel is created, how can we go back and add something to the first? This is possible within the MATLAB-style interface, but a bit clunky. (p. 223)\n",
    "The object-oriented interface is available for these more complicated situations, and\n",
    "for when you want more control over your figure. Rather than depending on some\n",
    "notion of an “active” figure or axes, in the object-oriented interface the plotting functions\n",
    "are methods of explicit Figure and Axes objects. (p. 223)\n",
    "See also - https://stackoverflow.com/questions/24764918/what-does-it-mean-when-they-say-stateful\n",
    "https://medium.com/@The_Gambitier/matplotlib-essentials-e376ed954201\n",
    "\n",
    "Throughout this chapter, we will switch between the MATLAB-style\n",
    "and object-oriented interfaces, depending on what is most convenient. In most cases,\n",
    "the difference is as small as switching plt.plot() to ax.plot(), but there are a few\n",
    "gotchas that we will highlight as they come up in the following sections. (p. 223)\n",
    "\n",
    "------\n",
    "\"Matplotlib's documentation and examples use both the OO and the pyplot approaches (which are equally powerful), and you should feel free to use either (however, it is preferable pick one of them and stick to it, instead of mixing them). In general, we suggest to restrict pyplot to interactive plotting (e.g., in a Jupyter notebook), and to prefer the OO-style for non-interactive plotting (in functions and scripts that are intended to be reused as part of a larger project).\" - https://matplotlib.org/stable/tutorials/introductory/usage.html\n",
    "\n",
    "https://nbviewer.org/github/matplotlib/AnatomyOfMatplotlib/blob/master/AnatomyOfMatplotlib-Part1-Figures_Subplots_and_layouts.ipynb\n",
    "\n",
    "\n",
    "Probably need to briefly explain MATLAB to explain matplotlib/the name\n",
    "\n",
    "From Matplotlib official Documentation\n",
    "\n",
    "The following introductory text was written in 2008 by John D. Hunter (1968-2012), the original author of Matplotlib. - Matplotlib is a library for making 2D plots of arrays in Python. Although it has its origins in emulating the MATLAB graphics commands, it is independent of MATLAB, and can be used in a Pythonic, object oriented way. Although Matplotlib is written primarily in pure Python, it makes heavy use of NumPy and other extension code to provide good performance even for large arrays.\n",
    "\n",
    "The Matplotlib code is conceptually divided into three parts: \n",
    "the pylab interface is the set of functions provided by pylab which allow the user to create plots with code quite similar to MATLAB figure generating code (Pyplot tutorial). \n",
    "The Matplotlib frontend or Matplotlib API is the set of classes that do the heavy lifting, creating and managing figures, text, lines, plots and so on (Artist tutorial). This is an abstract interface that knows nothing about output. \n",
    "The backends are device-dependent drawing devices, aka renderers, that transform the frontend representation to hardcopy or a display device\n",
    "\n",
    "\n",
    "From elsewhere in official documentation\n",
    "The pyplot API\n",
    "matplotlib.pyplot is a collection of command style functions that make Matplotlib work like MATLAB. Each pyplot function makes some change to a figure: e.g., creates a figure, creates a plotting area in a figure, plots some lines in a plotting area, decorates the plot with labels, etc.\n",
    "\n",
    "pyplot is mainly intended for interactive plots and simple cases of programmatic plot generation.\n",
    "\n",
    "\n",
    "-----------\n",
    "RealPython\n",
    "\n",
    "Pylab within matploblib is a holdover to make it more similar to MATLABs functionality where importing is not as heavily used as in python and makes most of the functions immediately available to the user, but using it in python is considered bad practice as it may cause bugs and conflicts with python built-ins. As such, it’s convention and recommended to import pylot instead.\n",
    "\n",
    "-------\n",
    "\n",
    "Various tutorials suggest adding the following after importing matplotlib:\n",
    "%matplotlib inline\n",
    "As it helps plots to show more consistently in jupyter\n",
    "\n",
    "To make multiple plots sidebyside - plt.subplot()\n"
   ]
  },
  {
   "cell_type": "code",
   "execution_count": null,
   "id": "40880f45",
   "metadata": {},
   "outputs": [],
   "source": []
  },
  {
   "cell_type": "code",
   "execution_count": 2,
   "id": "c038fa97",
   "metadata": {},
   "outputs": [],
   "source": [
    "# Real life data to be used in sample plots\n",
    "# Data was manually cleaned at parts so the sport names would be more consistant\n",
    "# The sport for F1 drivers was inconsistantly named - manually changed all to \"F1 Racing\"\n",
    "# In original file, changed between \"Auto Racing\", \"F1 Motorsports\", and \"F1 Racing\"\n",
    "# Nascar inconsistantly named - manually changed all to Nascar\n",
    "# In original file, changed between \"Auto Racing\", \"Auto Racing (Nascar)\", and \"Nascar\"\n",
    "# Changed three instances of \"NFL\" to the more commonly entered \"American Football\"\n",
    "# Changed one instance of \"NBA\" to the more commonly entered \"Basketball\"\n",
    "# Changed one instance of \"Hockey\" to the more commonly entered \"Ice Hockey\"\n",
    "df = pd.read_csv('forbes.csv', header=[0])\n"
   ]
  },
  {
   "cell_type": "markdown",
   "id": "60a046ad",
   "metadata": {},
   "source": [
    "### Scatterplot"
   ]
  },
  {
   "cell_type": "code",
   "execution_count": null,
   "id": "713f4507",
   "metadata": {},
   "outputs": [],
   "source": []
  },
  {
   "cell_type": "code",
   "execution_count": 3,
   "id": "ff30a869-89f0-4284-b4e1-7a38c2ee1e47",
   "metadata": {},
   "outputs": [],
   "source": [
    "a = [1, 2, 3, 4, 5]\n",
    "b = [1, 5, 7, 15, 22]"
   ]
  },
  {
   "cell_type": "code",
   "execution_count": 4,
   "id": "f19b8ad1",
   "metadata": {},
   "outputs": [
    {
     "data": {
      "text/plain": [
       "[<matplotlib.lines.Line2D at 0x18ef9ebacd0>]"
      ]
     },
     "execution_count": 4,
     "metadata": {},
     "output_type": "execute_result"
    },
    {
     "data": {
      "image/png": "[encoded data removed]",
      "text/plain": [
       "<Figure size 432x288 with 1 Axes>"
      ]
     },
     "metadata": {
      "needs_background": "light"
     },
     "output_type": "display_data"
    }
   ],
   "source": [
    "# A simple scatterplot using plt.plot\n",
    "# By default, plt.plot returns a line plot, \n",
    "# but adding 'o' changes the marker type, transforming the plot to a scatterplot\n",
    "plt.plot(a, b, 'o')"
   ]
  },
  {
   "cell_type": "code",
   "execution_count": 38,
   "id": "f87f6e36",
   "metadata": {},
   "outputs": [
    {
     "data": {
      "text/plain": [
       "<matplotlib.collections.PathCollection at 0x18efa868a00>"
      ]
     },
     "execution_count": 38,
     "metadata": {},
     "output_type": "execute_result"
    },
    {
     "data": {
      "image/png": "[encoded data removed]",
      "text/plain": [
       "<Figure size 1008x576 with 1 Axes>"
      ]
     },
     "metadata": {},
     "output_type": "display_data"
    }
   ],
   "source": [
    "# We can also change the plot style\n",
    "# https://tonysyu.github.io/raw_content/matplotlib-style-gallery/gallery.html\n",
    "\n",
    "# Change the style of plots.\n",
    "plt.style.use('ggplot')\n",
    "\n",
    "# Change the default size of plots\n",
    "plt.rcParams[\"figure.figsize\"] = (14, 8)\n",
    "\n",
    "# The same simple scatterplot using plt.scatter, with axes swapped\n",
    "plt.scatter(b, a)"
   ]
  },
  {
   "cell_type": "code",
   "execution_count": null,
   "id": "b3d2327e",
   "metadata": {},
   "outputs": [],
   "source": []
  },
  {
   "cell_type": "code",
   "execution_count": 90,
   "id": "f2f1d10e",
   "metadata": {},
   "outputs": [
    {
     "data": {
      "image/png": "[encoded data removed]",
      "text/plain": [
       "<Figure size 1008x576 with 1 Axes>"
      ]
     },
     "metadata": {},
     "output_type": "display_data"
    }
   ],
   "source": [
    "# A plot using Forbes dataframe\n",
    "# Using \"s=df[\"earnings ($ million)\"]\" changes the size of the points based on that variables' value\n",
    "# Using \"c=df[\"Current Rank\"]\" changes that colour of the plot point, in this instance based on ranking\n",
    "plt.scatter(x=df[\"Year\"], y=df[\"earnings ($ million)\"], \n",
    "            s=df[\"earnings ($ million)\"],c=df[\"Current Rank\"], marker='o', \n",
    "           cmap = 'inferno')\n",
    "\n",
    "# Adding titles and labels to plot\n",
    "plt.title(\"Forbes Athlete Rich List - 1990-2020\")\n",
    "plt.xlabel(\"Year\")\n",
    "plt.ylabel(\"Earnings ($ million)\")\n",
    "plt.grid(True, color='gray', linestyle = \"--\")\n",
    "\n",
    "# Save the output plot\n",
    "plt.savefig('ForbesRichScatter.png')"
   ]
  },
  {
   "cell_type": "code",
   "execution_count": 7,
   "id": "6680cae5",
   "metadata": {},
   "outputs": [
    {
     "data": {
      "text/html": [
       "<div>\n",
       "<style scoped>\n",
       "    .dataframe tbody tr th:only-of-type {\n",
       "        vertical-align: middle;\n",
       "    }\n",
       "\n",
       "    .dataframe tbody tr th {\n",
       "        vertical-align: top;\n",
       "    }\n",
       "\n",
       "    .dataframe thead th {\n",
       "        text-align: right;\n",
       "    }\n",
       "</style>\n",
       "<table border=\"1\" class=\"dataframe\">\n",
       "  <thead>\n",
       "    <tr style=\"text-align: right;\">\n",
       "      <th></th>\n",
       "      <th>S.NO</th>\n",
       "      <th>Name</th>\n",
       "      <th>Nationality</th>\n",
       "      <th>Current Rank</th>\n",
       "      <th>Previous Year Rank</th>\n",
       "      <th>Sport</th>\n",
       "      <th>Year</th>\n",
       "      <th>earnings ($ million)</th>\n",
       "    </tr>\n",
       "  </thead>\n",
       "  <tbody>\n",
       "    <tr>\n",
       "      <th>241</th>\n",
       "      <td>242</td>\n",
       "      <td>Floyd Mayweather</td>\n",
       "      <td>USA</td>\n",
       "      <td>1</td>\n",
       "      <td>1</td>\n",
       "      <td>Boxing</td>\n",
       "      <td>2015</td>\n",
       "      <td>300.0</td>\n",
       "    </tr>\n",
       "    <tr>\n",
       "      <th>271</th>\n",
       "      <td>272</td>\n",
       "      <td>Floyd Mayweather</td>\n",
       "      <td>USA</td>\n",
       "      <td>1</td>\n",
       "      <td>&gt;100</td>\n",
       "      <td>Boxing</td>\n",
       "      <td>2018</td>\n",
       "      <td>285.0</td>\n",
       "    </tr>\n",
       "  </tbody>\n",
       "</table>\n",
       "</div>"
      ],
      "text/plain": [
       "     S.NO              Name Nationality  Current Rank Previous Year Rank  \\\n",
       "241   242  Floyd Mayweather         USA             1                  1   \n",
       "271   272  Floyd Mayweather         USA             1               >100   \n",
       "\n",
       "      Sport  Year  earnings ($ million)  \n",
       "241  Boxing  2015                 300.0  \n",
       "271  Boxing  2018                 285.0  "
      ]
     },
     "execution_count": 7,
     "metadata": {},
     "output_type": "execute_result"
    }
   ],
   "source": [
    "# We can see on the plot that there are only two entries above $200m\n",
    "# We can look and see that Floyd Mayweather is an outlier, twice earning\n",
    "# almost double the athlete in 2nd place\n",
    "df[df['earnings ($ million)'] >= 250]"
   ]
  },
  {
   "cell_type": "code",
   "execution_count": null,
   "id": "1bba5287",
   "metadata": {},
   "outputs": [],
   "source": []
  },
  {
   "cell_type": "markdown",
   "id": "9f100f3a",
   "metadata": {},
   "source": [
    "### Histogram"
   ]
  },
  {
   "cell_type": "code",
   "execution_count": null,
   "id": "00f799e8-1ffe-4425-8de1-374a71c5a73b",
   "metadata": {},
   "outputs": [],
   "source": []
  },
  {
   "cell_type": "code",
   "execution_count": 8,
   "id": "432ebdce",
   "metadata": {},
   "outputs": [],
   "source": [
    "# Importing the numpy random number generator as per numpy documentation recommendation\n",
    "from numpy.random import default_rng\n",
    "rng = default_rng()"
   ]
  },
  {
   "cell_type": "code",
   "execution_count": 9,
   "id": "96c48e8a",
   "metadata": {},
   "outputs": [],
   "source": [
    "# Defining the mean and standard deviation that will be used by the rng\n",
    "mu, sigma = 20000, 100\n",
    "\n",
    "# Using numpy random to generate 1000 instances of normally distributed data\n",
    "random = np.random.default_rng().normal(mu, sigma, 1000)"
   ]
  },
  {
   "cell_type": "code",
   "execution_count": 89,
   "id": "d941f8e4",
   "metadata": {},
   "outputs": [
    {
     "data": {
      "text/plain": [
       "Text(20200, 225, '$\\\\mu=20000,\\\\ \\\\sigma=100$')"
      ]
     },
     "execution_count": 89,
     "metadata": {},
     "output_type": "execute_result"
    },
    {
     "data": {
      "image/png": "[encoded data removed]",
      "text/plain": [
       "<Figure size 1008x576 with 1 Axes>"
      ]
     },
     "metadata": {},
     "output_type": "display_data"
    }
   ],
   "source": [
    "# Plotting the randomly generated data to view the distribution\n",
    "plt.hist(random)\n",
    "\n",
    "# Add text to plot showing mu and sigma\n",
    "plt.text(20200, 225, r'$\\mu=20000,\\ \\sigma=100$')"
   ]
  },
  {
   "cell_type": "code",
   "execution_count": null,
   "id": "83ef86ea",
   "metadata": {},
   "outputs": [],
   "source": []
  },
  {
   "cell_type": "code",
   "execution_count": null,
   "id": "1cb12c91",
   "metadata": {},
   "outputs": [],
   "source": []
  },
  {
   "cell_type": "code",
   "execution_count": 102,
   "id": "4546b7e4",
   "metadata": {},
   "outputs": [
    {
     "data": {
      "text/plain": [
       "([<matplotlib.axis.XTick at 0x18e82e07cd0>,\n",
       "  <matplotlib.axis.XTick at 0x18e82e07ca0>,\n",
       "  <matplotlib.axis.XTick at 0x18e82e04880>,\n",
       "  <matplotlib.axis.XTick at 0x18e82e6cbe0>,\n",
       "  <matplotlib.axis.XTick at 0x18e82e6cf40>,\n",
       "  <matplotlib.axis.XTick at 0x18e82e7b490>,\n",
       "  <matplotlib.axis.XTick at 0x18e82e7b9a0>,\n",
       "  <matplotlib.axis.XTick at 0x18e82e7beb0>,\n",
       "  <matplotlib.axis.XTick at 0x18e82e80400>],\n",
       " [Text(0, 0, ''),\n",
       "  Text(0, 0, ''),\n",
       "  Text(0, 0, ''),\n",
       "  Text(0, 0, ''),\n",
       "  Text(0, 0, ''),\n",
       "  Text(0, 0, ''),\n",
       "  Text(0, 0, ''),\n",
       "  Text(0, 0, ''),\n",
       "  Text(0, 0, '')])"
      ]
     },
     "execution_count": 102,
     "metadata": {},
     "output_type": "execute_result"
    },
    {
     "data": {
      "image/png": "[encoded data removed]",
      "text/plain": [
       "<Figure size 1008x576 with 1 Axes>"
      ]
     },
     "metadata": {},
     "output_type": "display_data"
    }
   ],
   "source": [
    "# Distribution of the earnings in the Forbes dataframe\n",
    "# Set alpha to make plot transparant to more easily see grid\n",
    "plt.hist(df[\"earnings ($ million)\"], bins = 25, color='g', \n",
    "         alpha=0.5, edgecolor='black')\n",
    "plt.xlabel(\"Earnings ($ million)\")\n",
    "plt.ylabel(\"Count\")\n",
    "\n",
    "# Giving the plot unique ticks on the x-axis so there are more markers where the plot has more datapoints\n",
    "x_ticks = [10, 25, 50, 75, 100, 150, 200, 250, 300]\n",
    "\n",
    "#add x-axis values to plot\n",
    "plt.xticks(ticks=x_ticks)\n"
   ]
  },
  {
   "cell_type": "code",
   "execution_count": 82,
   "id": "ca9576e3",
   "metadata": {},
   "outputs": [],
   "source": [
    "# Notable drops in the amount of people in each Earnings bin ~$50m+ and again at  >~$100m"
   ]
  },
  {
   "cell_type": "code",
   "execution_count": null,
   "id": "a7efcef3",
   "metadata": {},
   "outputs": [],
   "source": []
  },
  {
   "cell_type": "code",
   "execution_count": null,
   "id": "ace98ec9",
   "metadata": {},
   "outputs": [],
   "source": []
  },
  {
   "cell_type": "markdown",
   "id": "06981739",
   "metadata": {},
   "source": [
    "### Bar Chart"
   ]
  },
  {
   "cell_type": "code",
   "execution_count": null,
   "id": "85f6b900",
   "metadata": {},
   "outputs": [],
   "source": []
  },
  {
   "cell_type": "code",
   "execution_count": 51,
   "id": "a9ee7080",
   "metadata": {},
   "outputs": [],
   "source": [
    "# Example Data\n",
    "amount = [9, 4, 8, 3, 7]\n",
    "fruit = [\"apple\", \"pear\", \"orange\", \"avocado\", \"banana\"]"
   ]
  },
  {
   "cell_type": "code",
   "execution_count": 52,
   "id": "fc6ec8be",
   "metadata": {},
   "outputs": [
    {
     "data": {
      "text/plain": [
       "<BarContainer object of 5 artists>"
      ]
     },
     "execution_count": 52,
     "metadata": {},
     "output_type": "execute_result"
    },
    {
     "data": {
      "image/png": "[encoded data removed]",
      "text/plain": [
       "<Figure size 1008x576 with 1 Axes>"
      ]
     },
     "metadata": {},
     "output_type": "display_data"
    }
   ],
   "source": [
    "# Plotting the example data in a bar chart\n",
    "plt.bar(fruit, amount)"
   ]
  },
  {
   "cell_type": "code",
   "execution_count": 53,
   "id": "9f038848",
   "metadata": {},
   "outputs": [
    {
     "data": {
      "text/plain": [
       "([<matplotlib.axis.YTick at 0x18efccc4eb0>,\n",
       "  <matplotlib.axis.YTick at 0x18efccc4a90>,\n",
       "  <matplotlib.axis.YTick at 0x18efccbf910>,\n",
       "  <matplotlib.axis.YTick at 0x18efccecd90>,\n",
       "  <matplotlib.axis.YTick at 0x18efbe2a2e0>,\n",
       "  <matplotlib.axis.YTick at 0x18efbe2a7f0>,\n",
       "  <matplotlib.axis.YTick at 0x18efbe2ad00>,\n",
       "  <matplotlib.axis.YTick at 0x18efbe2aa30>,\n",
       "  <matplotlib.axis.YTick at 0x18efbe300a0>,\n",
       "  <matplotlib.axis.YTick at 0x18efbe305b0>],\n",
       " [Text(0, 0, ''),\n",
       "  Text(0, 0, ''),\n",
       "  Text(0, 0, ''),\n",
       "  Text(0, 0, ''),\n",
       "  Text(0, 0, ''),\n",
       "  Text(0, 0, ''),\n",
       "  Text(0, 0, ''),\n",
       "  Text(0, 0, ''),\n",
       "  Text(0, 0, ''),\n",
       "  Text(0, 0, '')])"
      ]
     },
     "execution_count": 53,
     "metadata": {},
     "output_type": "execute_result"
    },
    {
     "data": {
      "image/png": "[encoded data removed]",
      "text/plain": [
       "<Figure size 1008x576 with 1 Axes>"
      ]
     },
     "metadata": {},
     "output_type": "display_data"
    }
   ],
   "source": [
    "# Change the bar colours and add axis labels\n",
    "plt.bar(fruit, amount, \n",
    "       color=['red', 'green', 'orange', 'purple', 'yellow'])\n",
    "plt.title(\"Fruit Sold in an Hour\")\n",
    "plt.xlabel(\"Fruit\")\n",
    "plt.ylabel(\"Number Sold\")\n",
    "\n",
    "# Set y-axis ticks to increase by 1 rather than 2\n",
    "plt.yticks(ticks=np.arange(10))"
   ]
  },
  {
   "cell_type": "code",
   "execution_count": 29,
   "id": "727d9b3c-a5a2-4e20-8943-babf3e160906",
   "metadata": {},
   "outputs": [
    {
     "data": {
      "text/html": [
       "<div>\n",
       "<style scoped>\n",
       "    .dataframe tbody tr th:only-of-type {\n",
       "        vertical-align: middle;\n",
       "    }\n",
       "\n",
       "    .dataframe tbody tr th {\n",
       "        vertical-align: top;\n",
       "    }\n",
       "\n",
       "    .dataframe thead th {\n",
       "        text-align: right;\n",
       "    }\n",
       "</style>\n",
       "<table border=\"1\" class=\"dataframe\">\n",
       "  <thead>\n",
       "    <tr style=\"text-align: right;\">\n",
       "      <th></th>\n",
       "      <th>S.NO</th>\n",
       "      <th>Name</th>\n",
       "      <th>Nationality</th>\n",
       "      <th>Current Rank</th>\n",
       "      <th>Previous Year Rank</th>\n",
       "      <th>Sport</th>\n",
       "      <th>Year</th>\n",
       "      <th>earnings ($ million)</th>\n",
       "    </tr>\n",
       "  </thead>\n",
       "  <tbody>\n",
       "    <tr>\n",
       "      <th>0</th>\n",
       "      <td>1</td>\n",
       "      <td>Mike Tyson</td>\n",
       "      <td>USA</td>\n",
       "      <td>1</td>\n",
       "      <td>NaN</td>\n",
       "      <td>Boxing</td>\n",
       "      <td>1990</td>\n",
       "      <td>28.6</td>\n",
       "    </tr>\n",
       "    <tr>\n",
       "      <th>1</th>\n",
       "      <td>2</td>\n",
       "      <td>Buster Douglas</td>\n",
       "      <td>USA</td>\n",
       "      <td>2</td>\n",
       "      <td>NaN</td>\n",
       "      <td>Boxing</td>\n",
       "      <td>1990</td>\n",
       "      <td>26.0</td>\n",
       "    </tr>\n",
       "    <tr>\n",
       "      <th>2</th>\n",
       "      <td>3</td>\n",
       "      <td>Sugar Ray Leonard</td>\n",
       "      <td>USA</td>\n",
       "      <td>3</td>\n",
       "      <td>NaN</td>\n",
       "      <td>Boxing</td>\n",
       "      <td>1990</td>\n",
       "      <td>13.0</td>\n",
       "    </tr>\n",
       "    <tr>\n",
       "      <th>3</th>\n",
       "      <td>4</td>\n",
       "      <td>Ayrton Senna</td>\n",
       "      <td>Brazil</td>\n",
       "      <td>4</td>\n",
       "      <td>NaN</td>\n",
       "      <td>F1 Racing</td>\n",
       "      <td>1990</td>\n",
       "      <td>10.0</td>\n",
       "    </tr>\n",
       "    <tr>\n",
       "      <th>4</th>\n",
       "      <td>5</td>\n",
       "      <td>Alain Prost</td>\n",
       "      <td>France</td>\n",
       "      <td>5</td>\n",
       "      <td>NaN</td>\n",
       "      <td>F1 Racing</td>\n",
       "      <td>1990</td>\n",
       "      <td>9.0</td>\n",
       "    </tr>\n",
       "    <tr>\n",
       "      <th>...</th>\n",
       "      <td>...</td>\n",
       "      <td>...</td>\n",
       "      <td>...</td>\n",
       "      <td>...</td>\n",
       "      <td>...</td>\n",
       "      <td>...</td>\n",
       "      <td>...</td>\n",
       "      <td>...</td>\n",
       "    </tr>\n",
       "    <tr>\n",
       "      <th>296</th>\n",
       "      <td>297</td>\n",
       "      <td>Stephen Curry</td>\n",
       "      <td>USA</td>\n",
       "      <td>6</td>\n",
       "      <td>9</td>\n",
       "      <td>Basketball</td>\n",
       "      <td>2020</td>\n",
       "      <td>74.4</td>\n",
       "    </tr>\n",
       "    <tr>\n",
       "      <th>297</th>\n",
       "      <td>298</td>\n",
       "      <td>Kevin Durant</td>\n",
       "      <td>USA</td>\n",
       "      <td>7</td>\n",
       "      <td>10</td>\n",
       "      <td>Basketball</td>\n",
       "      <td>2020</td>\n",
       "      <td>63.9</td>\n",
       "    </tr>\n",
       "    <tr>\n",
       "      <th>298</th>\n",
       "      <td>299</td>\n",
       "      <td>Tiger Woods</td>\n",
       "      <td>USA</td>\n",
       "      <td>8</td>\n",
       "      <td>11</td>\n",
       "      <td>Golf</td>\n",
       "      <td>2020</td>\n",
       "      <td>62.3</td>\n",
       "    </tr>\n",
       "    <tr>\n",
       "      <th>299</th>\n",
       "      <td>300</td>\n",
       "      <td>Kirk Cousins</td>\n",
       "      <td>USA</td>\n",
       "      <td>9</td>\n",
       "      <td>&gt;100</td>\n",
       "      <td>American Football</td>\n",
       "      <td>2020</td>\n",
       "      <td>60.5</td>\n",
       "    </tr>\n",
       "    <tr>\n",
       "      <th>300</th>\n",
       "      <td>301</td>\n",
       "      <td>Carson Wentz</td>\n",
       "      <td>USA</td>\n",
       "      <td>10</td>\n",
       "      <td>&gt;100</td>\n",
       "      <td>American Football</td>\n",
       "      <td>2020</td>\n",
       "      <td>59.1</td>\n",
       "    </tr>\n",
       "  </tbody>\n",
       "</table>\n",
       "<p>301 rows × 8 columns</p>\n",
       "</div>"
      ],
      "text/plain": [
       "     S.NO               Name Nationality  Current Rank Previous Year Rank  \\\n",
       "0       1         Mike Tyson         USA             1                NaN   \n",
       "1       2     Buster Douglas         USA             2                NaN   \n",
       "2       3  Sugar Ray Leonard         USA             3                NaN   \n",
       "3       4       Ayrton Senna      Brazil             4                NaN   \n",
       "4       5        Alain Prost      France             5                NaN   \n",
       "..    ...                ...         ...           ...                ...   \n",
       "296   297      Stephen Curry         USA             6                  9   \n",
       "297   298       Kevin Durant         USA             7                 10   \n",
       "298   299        Tiger Woods         USA             8                 11   \n",
       "299   300       Kirk Cousins         USA             9               >100   \n",
       "300   301       Carson Wentz         USA            10               >100   \n",
       "\n",
       "                 Sport  Year  earnings ($ million)  \n",
       "0               Boxing  1990                  28.6  \n",
       "1               Boxing  1990                  26.0  \n",
       "2               Boxing  1990                  13.0  \n",
       "3            F1 Racing  1990                  10.0  \n",
       "4            F1 Racing  1990                   9.0  \n",
       "..                 ...   ...                   ...  \n",
       "296         Basketball  2020                  74.4  \n",
       "297         Basketball  2020                  63.9  \n",
       "298               Golf  2020                  62.3  \n",
       "299  American Football  2020                  60.5  \n",
       "300  American Football  2020                  59.1  \n",
       "\n",
       "[301 rows x 8 columns]"
      ]
     },
     "execution_count": 29,
     "metadata": {},
     "output_type": "execute_result"
    }
   ],
   "source": [
    "# The data in the sports colums was entered in both title case and lower case\n",
    "# Changed all to title to make the count easier\n",
    "df.Sport = df.Sport.str.title()\n",
    "df"
   ]
  },
  {
   "cell_type": "code",
   "execution_count": null,
   "id": "5ea09ee8-f682-4808-8511-c5726c04b144",
   "metadata": {},
   "outputs": [],
   "source": []
  },
  {
   "cell_type": "code",
   "execution_count": 71,
   "id": "a036ef1a",
   "metadata": {},
   "outputs": [
    {
     "data": {
      "text/html": [
       "<div>\n",
       "<style scoped>\n",
       "    .dataframe tbody tr th:only-of-type {\n",
       "        vertical-align: middle;\n",
       "    }\n",
       "\n",
       "    .dataframe tbody tr th {\n",
       "        vertical-align: top;\n",
       "    }\n",
       "\n",
       "    .dataframe thead th {\n",
       "        text-align: right;\n",
       "    }\n",
       "</style>\n",
       "<table border=\"1\" class=\"dataframe\">\n",
       "  <thead>\n",
       "    <tr style=\"text-align: right;\">\n",
       "      <th></th>\n",
       "      <th>Sport</th>\n",
       "      <th>Count</th>\n",
       "      <th>Total Earnings ($ million)</th>\n",
       "    </tr>\n",
       "  </thead>\n",
       "  <tbody>\n",
       "    <tr>\n",
       "      <th>0</th>\n",
       "      <td>American Football</td>\n",
       "      <td>20</td>\n",
       "      <td>938.7</td>\n",
       "    </tr>\n",
       "    <tr>\n",
       "      <th>1</th>\n",
       "      <td>American Football / Baseball</td>\n",
       "      <td>1</td>\n",
       "      <td>22.5</td>\n",
       "    </tr>\n",
       "    <tr>\n",
       "      <th>2</th>\n",
       "      <td>Baseball</td>\n",
       "      <td>6</td>\n",
       "      <td>146.1</td>\n",
       "    </tr>\n",
       "    <tr>\n",
       "      <th>3</th>\n",
       "      <td>Basketball</td>\n",
       "      <td>82</td>\n",
       "      <td>3433.3</td>\n",
       "    </tr>\n",
       "    <tr>\n",
       "      <th>4</th>\n",
       "      <td>Boxing</td>\n",
       "      <td>46</td>\n",
       "      <td>2298.8</td>\n",
       "    </tr>\n",
       "    <tr>\n",
       "      <th>5</th>\n",
       "      <td>Cycling</td>\n",
       "      <td>1</td>\n",
       "      <td>28.0</td>\n",
       "    </tr>\n",
       "    <tr>\n",
       "      <th>6</th>\n",
       "      <td>F1 Racing</td>\n",
       "      <td>30</td>\n",
       "      <td>1004.8</td>\n",
       "    </tr>\n",
       "    <tr>\n",
       "      <th>7</th>\n",
       "      <td>Golf</td>\n",
       "      <td>44</td>\n",
       "      <td>2136.5</td>\n",
       "    </tr>\n",
       "    <tr>\n",
       "      <th>8</th>\n",
       "      <td>Ice Hockey</td>\n",
       "      <td>4</td>\n",
       "      <td>75.7</td>\n",
       "    </tr>\n",
       "    <tr>\n",
       "      <th>9</th>\n",
       "      <td>Mma</td>\n",
       "      <td>1</td>\n",
       "      <td>99.0</td>\n",
       "    </tr>\n",
       "    <tr>\n",
       "      <th>10</th>\n",
       "      <td>Motorcycle Gp</td>\n",
       "      <td>4</td>\n",
       "      <td>128.0</td>\n",
       "    </tr>\n",
       "    <tr>\n",
       "      <th>11</th>\n",
       "      <td>Nascar</td>\n",
       "      <td>6</td>\n",
       "      <td>148.2</td>\n",
       "    </tr>\n",
       "    <tr>\n",
       "      <th>12</th>\n",
       "      <td>Soccer</td>\n",
       "      <td>33</td>\n",
       "      <td>2223.5</td>\n",
       "    </tr>\n",
       "    <tr>\n",
       "      <th>13</th>\n",
       "      <td>Tennis</td>\n",
       "      <td>23</td>\n",
       "      <td>1017.3</td>\n",
       "    </tr>\n",
       "  </tbody>\n",
       "</table>\n",
       "</div>"
      ],
      "text/plain": [
       "                           Sport  Count  Total Earnings ($ million)\n",
       "0              American Football     20                       938.7\n",
       "1   American Football / Baseball      1                        22.5\n",
       "2                       Baseball      6                       146.1\n",
       "3                     Basketball     82                      3433.3\n",
       "4                         Boxing     46                      2298.8\n",
       "5                        Cycling      1                        28.0\n",
       "6                      F1 Racing     30                      1004.8\n",
       "7                           Golf     44                      2136.5\n",
       "8                     Ice Hockey      4                        75.7\n",
       "9                            Mma      1                        99.0\n",
       "10                 Motorcycle Gp      4                       128.0\n",
       "11                        Nascar      6                       148.2\n",
       "12                        Soccer     33                      2223.5\n",
       "13                        Tennis     23                      1017.3"
      ]
     },
     "execution_count": 71,
     "metadata": {},
     "output_type": "execute_result"
    }
   ],
   "source": [
    "# Create a new df that groups sport by apperances in list and total sport earnings\n",
    "df_sport = df.groupby('Sport').count()[['Year']]\n",
    "df_sport['Total Earnings ($ million)'] = df.groupby('Sport').sum()['earnings ($ million)']\n",
    "df_sport = df_sport.rename(columns={'Year':'Count'})\n",
    "df_sport.reset_index(level=0, inplace=True)\n",
    "df_sport"
   ]
  },
  {
   "cell_type": "code",
   "execution_count": null,
   "id": "49f1ac12-a905-44db-8269-1701fe7e7397",
   "metadata": {},
   "outputs": [],
   "source": [
    "\n"
   ]
  },
  {
   "cell_type": "code",
   "execution_count": 76,
   "id": "3c4b78e0",
   "metadata": {},
   "outputs": [
    {
     "data": {
      "text/plain": [
       "([0, 1, 2, 3, 4, 5, 6, 7, 8, 9, 10, 11, 12, 13],\n",
       " [Text(0, 0, ''),\n",
       "  Text(0, 0, ''),\n",
       "  Text(0, 0, ''),\n",
       "  Text(0, 0, ''),\n",
       "  Text(0, 0, ''),\n",
       "  Text(0, 0, ''),\n",
       "  Text(0, 0, ''),\n",
       "  Text(0, 0, ''),\n",
       "  Text(0, 0, ''),\n",
       "  Text(0, 0, ''),\n",
       "  Text(0, 0, ''),\n",
       "  Text(0, 0, ''),\n",
       "  Text(0, 0, ''),\n",
       "  Text(0, 0, '')])"
      ]
     },
     "execution_count": 76,
     "metadata": {},
     "output_type": "execute_result"
    },
    {
     "data": {
      "image/png": "[encoded data removed]",
      "text/plain": [
       "<Figure size 1008x576 with 1 Axes>"
      ]
     },
     "metadata": {},
     "output_type": "display_data"
    }
   ],
   "source": [
    "# Convert cmap to colors for barchart\n",
    "# https://moonbooks.org/Articles/How-to-plot-a-bar-chart-with-a-colorbar-using-matplotlib-in-python-/\n",
    "data_color = [200.,600.,0.,750.]\n",
    "data_color_normalized = [x / max(data_color) for x in data_color]\n",
    "my_cmap = plt.cm.get_cmap('copper')\n",
    "colors = my_cmap(data_color_normalized)\n",
    "\n",
    "# Plot Forbes Rich List by sport count\n",
    "plt.bar(df_sport['Sport'], df_sport['Count'], color=colors)\n",
    "\n",
    "# Add labels\n",
    "plt.title(\"Forbes Sports Rich List (1990-2020) - Sport Apperances\")\n",
    "plt.xlabel(\"Sport\")\n",
    "plt.ylabel(\"Apperances on List\")\n",
    "\n",
    "# rotate axis labels as they were illegible and on top of each other by default\n",
    "plt.xticks(rotation=90)"
   ]
  },
  {
   "cell_type": "code",
   "execution_count": 77,
   "id": "d0857bd2-a1c3-492f-834e-234bbaa80a81",
   "metadata": {},
   "outputs": [
    {
     "data": {
      "text/plain": [
       "([0, 1, 2, 3, 4, 5, 6, 7, 8, 9, 10, 11, 12, 13],\n",
       " [Text(0, 0, ''),\n",
       "  Text(0, 0, ''),\n",
       "  Text(0, 0, ''),\n",
       "  Text(0, 0, ''),\n",
       "  Text(0, 0, ''),\n",
       "  Text(0, 0, ''),\n",
       "  Text(0, 0, ''),\n",
       "  Text(0, 0, ''),\n",
       "  Text(0, 0, ''),\n",
       "  Text(0, 0, ''),\n",
       "  Text(0, 0, ''),\n",
       "  Text(0, 0, ''),\n",
       "  Text(0, 0, ''),\n",
       "  Text(0, 0, '')])"
      ]
     },
     "execution_count": 77,
     "metadata": {},
     "output_type": "execute_result"
    },
    {
     "data": {
      "image/png": "[encoded data removed]",
      "text/plain": [
       "<Figure size 1008x576 with 1 Axes>"
      ]
     },
     "metadata": {},
     "output_type": "display_data"
    }
   ],
   "source": [
    "# Plot Forbes Rich List by Total Earnings\n",
    "plt.bar(df_sport['Sport'], df_sport['Total Earnings ($ million)'], color=colors)\n",
    "\n",
    "# Add labels\n",
    "plt.title(\"Forbes Sports Rich List (1990-2020) - Total Earned by Sport\")\n",
    "plt.xlabel(\"Sport\")\n",
    "plt.ylabel(\"Total Earnings ($ million)\")\n",
    "\n",
    "# Rotate axis labels as they were illegible and on top of each other by default\n",
    "plt.xticks(rotation=90)"
   ]
  },
  {
   "cell_type": "code",
   "execution_count": null,
   "id": "fdda4ca3-df71-41ea-a6e4-b8a07688fc3a",
   "metadata": {},
   "outputs": [],
   "source": []
  },
  {
   "cell_type": "code",
   "execution_count": null,
   "id": "9419bdfa-fb6a-4690-910d-b8384de7e3e6",
   "metadata": {},
   "outputs": [],
   "source": []
  },
  {
   "cell_type": "code",
   "execution_count": null,
   "id": "485fbde9-a122-46d1-abb0-ac024b217eca",
   "metadata": {},
   "outputs": [],
   "source": []
  },
  {
   "cell_type": "code",
   "execution_count": null,
   "id": "78a3278a-c879-46fe-9da2-41d151cfd1a1",
   "metadata": {},
   "outputs": [],
   "source": []
  },
  {
   "cell_type": "code",
   "execution_count": null,
   "id": "ffbc4e12-a351-4891-900b-0a5bba1f7172",
   "metadata": {},
   "outputs": [],
   "source": []
  },
  {
   "cell_type": "code",
   "execution_count": null,
   "id": "bafdc31e-c99e-41a6-bcbf-f7f4de5587f4",
   "metadata": {},
   "outputs": [],
   "source": []
  },
  {
   "cell_type": "code",
   "execution_count": null,
   "id": "77e7581e-6a85-4383-9186-64f2414f306f",
   "metadata": {},
   "outputs": [],
   "source": []
  },
  {
   "cell_type": "code",
   "execution_count": null,
   "id": "8be6ba40-ed13-4ec6-b06f-e7ca393e7728",
   "metadata": {},
   "outputs": [],
   "source": []
  },
  {
   "cell_type": "code",
   "execution_count": null,
   "id": "3ea978f7-a3dc-415c-b216-2d00792cd100",
   "metadata": {},
   "outputs": [],
   "source": []
  },
  {
   "cell_type": "code",
   "execution_count": null,
   "id": "12e2d8dd-5e65-42c5-b540-3f931a3c9e8b",
   "metadata": {},
   "outputs": [],
   "source": []
  },
  {
   "cell_type": "code",
   "execution_count": null,
   "id": "d67e9c95-cd1d-45ce-bc62-8075c2cddb66",
   "metadata": {},
   "outputs": [],
   "source": []
  },
  {
   "cell_type": "code",
   "execution_count": null,
   "id": "f255c684-260d-466b-b9c7-75faad7cd256",
   "metadata": {},
   "outputs": [],
   "source": []
  },
  {
   "cell_type": "markdown",
   "id": "59e2c3b7",
   "metadata": {},
   "source": [
    "### References"
   ]
  },
  {
   "cell_type": "markdown",
   "id": "04d28c19",
   "metadata": {},
   "source": []
  },
  {
   "cell_type": "markdown",
   "id": "3aa3e354",
   "metadata": {},
   "source": []
  },
  {
   "cell_type": "markdown",
   "id": "7ae28c2a",
   "metadata": {},
   "source": []
  },
  {
   "cell_type": "code",
   "execution_count": null,
   "id": "88ebf188",
   "metadata": {},
   "outputs": [],
   "source": []
  },
  {
   "cell_type": "code",
   "execution_count": null,
   "id": "35f3198d",
   "metadata": {},
   "outputs": [],
   "source": []
  },
  {
   "cell_type": "code",
   "execution_count": null,
   "id": "85ec64e8",
   "metadata": {},
   "outputs": [],
   "source": []
  },
  {
   "cell_type": "code",
   "execution_count": null,
   "id": "68a43e7b",
   "metadata": {},
   "outputs": [],
   "source": []
  },
  {
   "cell_type": "code",
   "execution_count": null,
   "id": "70d7721f",
   "metadata": {},
   "outputs": [],
   "source": []
  },
  {
   "cell_type": "code",
   "execution_count": null,
   "id": "94fc82f1",
   "metadata": {},
   "outputs": [],
   "source": []
  },
  {
   "cell_type": "code",
   "execution_count": null,
   "id": "9e5a3a2b",
   "metadata": {},
   "outputs": [],
   "source": []
  },
  {
   "cell_type": "code",
   "execution_count": null,
   "id": "733ce8a5",
   "metadata": {},
   "outputs": [],
   "source": []
  },
  {
   "cell_type": "code",
   "execution_count": null,
   "id": "05836fb5",
   "metadata": {},
   "outputs": [],
   "source": []
  }
 ],
 "metadata": {
  "kernelspec": {
   "display_name": "Python 3",
   "language": "python",
   "name": "python3"
  },
  "language_info": {
   "codemirror_mode": {
    "name": "ipython",
    "version": 3
   },
   "file_extension": ".py",
   "mimetype": "text/x-python",
   "name": "python",
   "nbconvert_exporter": "python",
   "pygments_lexer": "ipython3",
   "version": "3.8.8"
  }
 },
 "nbformat": 4,
 "nbformat_minor": 5
}
